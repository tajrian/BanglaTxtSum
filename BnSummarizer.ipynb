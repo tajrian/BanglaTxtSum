{
 "cells": [
  {
   "cell_type": "markdown",
   "metadata": {},
   "source": [
    "# Title: BnSummarizer(Bangla Automatic Text Summarizer)  \n",
    "# Student Registration No: 2015331542"
   ]
  },
  {
   "cell_type": "markdown",
   "metadata": {},
   "source": [
    "# Problem:\n",
    " BnSummarizer is tool which summarizes bangla articles by extracting the most important sentences."
   ]
  },
  {
   "cell_type": "markdown",
   "metadata": {},
   "source": [
    " # Solution Steps:\n",
    "    1. The input text will be tokenized into sentences\n",
    "    2. Calculating vector representation (word embeddings) for each and every sentence\n",
    "    3. Distance between sentence vectors calculated storing them in a matrix\n",
    "    4. Convert distance between sentences into graph\n",
    "    5. In the graph sentences will be vertices and distance scores will be edges\n",
    "    6. We will find the sentences will most frequency\n",
    "    7. The output will be top 4 sentences\n",
    "  \n",
    "    - I will be using python3 and python packages "
   ]
  },
  {
   "cell_type": "markdown",
   "metadata": {},
   "source": [
    "# Code:\n",
    "   - Every part of the code will be explained with a markdown cell. "
   ]
  },
  {
   "cell_type": "code",
   "execution_count": 1,
   "metadata": {},
   "outputs": [
    {
     "name": "stderr",
     "output_type": "stream",
     "text": [
      "unable to import 'smart_open.gcs', disabling that module\n"
     ]
    }
   ],
   "source": [
    "import numpy as np\n",
    "import pandas as pd\n",
    "import nltk\n",
    "#nltk.download('punkt')\n",
    "import re\n",
    "from gensim.models import Word2Vec\n",
    "import pyemd\n",
    "import networkx as nx"
   ]
  },
  {
   "cell_type": "markdown",
   "metadata": {},
   "source": [
    "A method called `bnSent_tokenizer` is developed below to split bangla text into tokenized sentences as built in sent_tokenization method doesnt work correctly with Bangla.   \n",
    "    - takes bangla text as arguement\n",
    "    - returns a list of tokenized bangla sentences."
   ]
  },
  {
   "cell_type": "code",
   "execution_count": 2,
   "metadata": {},
   "outputs": [],
   "source": [
    "def bnSent_tokenizer(text):\n",
    "    sentences = []\n",
    "    sentence = \"\"\n",
    "    for letter in text:\n",
    "        if letter=='।':\n",
    "            sentences.append(sentence) \n",
    "            sentence = \"\"\n",
    "        else:\n",
    "            sentence=sentence+letter\n",
    "    return sentences"
   ]
  },
  {
   "cell_type": "markdown",
   "metadata": {},
   "source": [
    "A method called `bnWord_tokenizer` is developed below to split bangla sentences into tokenized words\n",
    "    - takes bangla text as arguement\n",
    "    - returns a list of tokenized bangla sentences."
   ]
  },
  {
   "cell_type": "code",
   "execution_count": 3,
   "metadata": {},
   "outputs": [],
   "source": [
    "def bnWord_tokenizer(sentences):\n",
    "    final_txt =[]\n",
    "    for sentence in sentences:\n",
    "        tokenized_sentence = sentence.split(\" \")\n",
    "        #print(tokenized_sentence)\n",
    "        final_txt.append(tokenized_sentence)\n",
    "    return final_txt\n"
   ]
  },
  {
   "cell_type": "markdown",
   "metadata": {},
   "source": [
    "A method `train_model` develop to train word2vec model using out original text.\n",
    "       - This method takes a list of list containing tokenized words.\n",
    "       - returns word vectors"
   ]
  },
  {
   "cell_type": "code",
   "execution_count": 4,
   "metadata": {},
   "outputs": [],
   "source": [
    "def train_model(final_txt):\n",
    "    model = Word2Vec(final_txt, size=200, window=5, min_count=1)\n",
    "    word_vectors = model.wv\n",
    "    return word_vectors"
   ]
  },
  {
   "cell_type": "markdown",
   "metadata": {},
   "source": [
    "We will create a method `distance_matrix` to creat a matrix of the word vector distance between sentences.\n",
    "     - This method takes our trained model and list of list containing tokenized words as input\n",
    "     - returns a distance matrix of square dimention (a numpy ndarray)"
   ]
  },
  {
   "cell_type": "code",
   "execution_count": 5,
   "metadata": {},
   "outputs": [],
   "source": [
    "def distance_matrix(word_vectors,final_txt):\n",
    "    dis_mat = np.zeros([len(final_txt), len(final_txt)])\n",
    "    for i in range(len(final_txt)):\n",
    "        for j in range(len(final_txt)):\n",
    "            dis_mat[i][j]=word_vectors.wmdistance(final_txt[i],final_txt[j])\n",
    "    return dis_mat\n"
   ]
  },
  {
   "cell_type": "markdown",
   "metadata": {},
   "source": [
    "Converting the distance matrix into a graph using `senGraph` method . The nodes of this graph will represent the sentences and the edges will represent the distance scores between the sentences. \n",
    "    - takes the distance matrixs as arguement \n",
    "    - returns sentence rankings."
   ]
  },
  {
   "cell_type": "code",
   "execution_count": 6,
   "metadata": {},
   "outputs": [],
   "source": [
    "def senGraph(dis_mat):\n",
    "    nx_graph = nx.from_numpy_array(dis_mat)\n",
    "    scores = nx.pagerank(nx_graph)\n",
    "    return scores"
   ]
  },
  {
   "cell_type": "markdown",
   "metadata": {},
   "source": [
    "Method `extractSum` to get the summary. \n",
    "       - takes tokenzied sentences and sentence graph aka scores as input\n",
    "       - returns summary as text"
   ]
  },
  {
   "cell_type": "code",
   "execution_count": 7,
   "metadata": {},
   "outputs": [],
   "source": [
    "def extractSum(sentences,scores):\n",
    "    sorted_sentences = sorted(((scores[i],s) for i,s in enumerate(sentences)), reverse=True)\n",
    "    summary = \"\" \n",
    "    for i in range(6):\n",
    "        try:\n",
    "            summary=summary+sorted_sentences[i][1]+\"। \"\n",
    "        except IndexError:\n",
    "            break\n",
    "    return summary"
   ]
  },
  {
   "cell_type": "markdown",
   "metadata": {},
   "source": [
    "Finally the `BnSummarizer` method to find the summary.\n",
    "    - takes a bangla text as input\n",
    "    - return a summary string as output"
   ]
  },
  {
   "cell_type": "code",
   "execution_count": 8,
   "metadata": {},
   "outputs": [],
   "source": [
    "def BnSummarizer(bnString):\n",
    "    sentences = bnSent_tokenizer(bnString)\n",
    "    final_txt = bnWord_tokenizer(sentences)\n",
    "    word_vectors = train_model(final_txt)\n",
    "    dis_mat = distance_matrix(word_vectors,final_txt)\n",
    "    scores = senGraph(dis_mat)\n",
    "    summary = extractSum(sentences,scores)\n",
    "    return summary"
   ]
  },
  {
   "cell_type": "markdown",
   "metadata": {},
   "source": [
    "# Input Sample: \n",
    "The first part of [Oporichita By Rabindranath Tagore](https://bn.wikisource.org/wiki/%E0%A6%97%E0%A6%B2%E0%A7%8D%E0%A6%AA%E0%A6%97%E0%A7%81%E0%A6%9A%E0%A7%8D%E0%A6%9B/%E0%A6%85%E0%A6%AA%E0%A6%B0%E0%A6%BF%E0%A6%9A%E0%A6%BF%E0%A6%A4%E0%A6%BE) is used here as input. "
   ]
  },
  {
   "cell_type": "code",
   "execution_count": 9,
   "metadata": {},
   "outputs": [
    {
     "name": "stdout",
     "output_type": "stream",
     "text": [
      "Enter the Bangla text to summarize: আজ আমার বয়স সাতাশ মাত্র। এ জীবনটা না দৈর্ঘ্যের হিসাবে বড়াে, না গুণের হিসাবে। তবু ইহার একটু বিশেষ মূল্য আছে। ইহা সেই ফুলের মতাে যাহার বুকের উপরে ভ্রমর আসিয়া বসিয়াছিল, এবং সেই পদক্ষেপের ইতিহাস তাহার জীবনের মাঝখানে ফলের মতাে গুটি ধরিয়া উঠিয়াছে।   সেই ইতিহাসটুকু আকারে ছােটো, তাহাকে ছােটো করিয়াই লিখিব। ছােটোকে যাঁহারা সামান্য বলিয়া ভুল করেন না তাঁহারা ইহার রস বুঝিবেন।   কলেজে যতগুলাে পরীক্ষা পাস করিবার সব আমি চুকাইয়াছি। ছেলেবেলায় আমার সুন্দর চেহারা লইয়া পণ্ডিতমশায় আমাকে শিমুল ফুল ও মাকাল ফলের সহিত তুলনা করিয়া বিদ্রুপ করিবার সুযােগ পাইয়াছিলেন। ইহাতে তখন বড়ো লজ্জা পাইতাম; কিন্তু বয়স হইয়া এ কথা ভাবিয়াছি, যদি জন্মান্তর থাকে তবে আমার মুখে সরূপ এবং পণ্ডিতমশায়দের মুখে বিদ্রুপ আবার যেন এমনি করিয়াই প্রকাশ পায়।   আমার পিতা এক কালে গরিব ছিলেন। ওকালতি করিয়া তিনি প্রচুর টাকা রােজগার করিয়াছেন, ভােগ করিবার সময় নিমেষমাত্রও পান নাই। মৃত্যুতে তিনি যে হাঁফ ছাড়িলেন সেই তাঁর প্রথম অবকাশ।   আমার তখন বয়স অল্প। মার হাতেই আমি মানুষ। মা গরিবের ঘরের মেয়ে; তাই, আমরা যে ধনী এ কথা তিনিও ভােলেন না আমাকেও ভুলিতে দেন না। শিশুকালে আমি কোলে কোলেই মানুষ-বােধ করি, সেইজন্য শেষ পর্যন্ত আমার পুরােপুরি বয়সই হইল না। আজও আমাকে দেখিলে মনে হইবে, আমি অন্নপূর্ণার কোলে গজাননের ছােটো ভাইটি।   আমার আসল অভিভাবক আমার মামা। তিনি আমার চেয়ে বড়ােজোর বছর ছয়েক বড়াে। কিন্তু, ফল্গুর বালির মতাে তিনি আমাদের সমস্ত সংসারটাকে নিজের অন্তরের মধ্যে শুষিয়া লইয়াছেন। তাঁহাকে না খুঁড়িয়া এখানকার এক গণ্ডূষও রস পাইবার জো নাই। এই কারণে কোনাে-কিছুর জন্যই আমাকে কোনাে ভাবনা ভাবিতেই হয় না।   কন্যার পিতা মাত্রেই স্বীকার করিবেন, আমি সৎপাত্র। তামাকটুকু পর্যন্ত খাই না। ভালােমানুষ হওয়ার কোনাে ঝঞ্ঝাট নাই, তাই আমি নিতান্ত ভালােমানুষ। মাতার আদেশ মানিয়া চলিবার ক্ষমতা আমার আছে—বস্তুত, না মানিবার ক্ষমতা আমার নাই। অন্তঃপুরের শাসনে চলিবার মতাে করিয়াই আমি প্রস্তুত হইয়াছি, যদি কোনাে কন্যা স্বয়ম্বরা হন তবে এই সুলক্ষণটি স্মরণ রাখিবেন।   অনেক বড়াে ঘর হইতে আমার সম্বন্ধ আসিয়াছিল। কিন্তু মামা, যিনি পৃথিবীতে আমার ভাগ্যদেবতার প্রধান এজেন্ট, বিবাহ সম্বন্ধে তাঁর একটা বিশেষ মত ছিল। ধনীর কন্যা তাঁর পছন্দ নয়। আমাদের ঘরে যে মেয়ে আসিবে সে মাথা হেট করিয়া আসিবে, এই তিনি চান। অথচ টাকার প্রতি আসক্তি তাঁরি অস্থিমজ্জায় জড়িত। তিনি এমন বেহাই চান যাহার টাকা নাই অথচ যে টাকা দিতে কসুর করিবে না। যাহাকে শোষণ করা চলিবে অথচ বাড়িতে আসিলে গুড়গুড়ির পরিবর্তে বাঁধা হুঁকায় তামাক দিলে যাহার নালিশ খাটিবে না।   আমার বন্ধু হরিশ কানপুরে কাজ করে। সে ছুটিতে কলিকাতায় আসিয়া আমার মন উতলা করিয়া দিল। সে বলিল, “ওহে, মেয়ে যদি বল একটি খাসা মেয়ে আছে।\"   কিছুদিন পূর্বেই এম.এ. পাস করিয়াছি। সামনে যত দূর পর্যন্ত দৃষ্টি চলে ছুটি ধূ ধূ করিতেছে; পরীক্ষা নাই, উমেদারি নাই, চাকরি নাই; নিজের বিষয় দেখিবার চিন্তাও নাই, শিক্ষাও নাই, ইচ্ছাও নাই—থাকিবার মধ্যে ভিতরে আছেন মা এবং বাহিরে আছেন মামা।   এই অবকাশের মরুভূমির মধ্যে আমার হৃদয় তখন বিশ্বব্যাপী নারীরূপের মরীচিকা দেখিতেছিল—আকাশে তাহার দৃষ্টি, বাতাসে তাহার নিশ্বাস, তরুমর্মরে তাহার গােপন কথা।   এমন সময় হরিশ আসিয়া বলিল, “মেয়ে যদি বলে তবে—”। আমার শরীর-মন বসন্তবাতাসে বকুলবনের নবপল্লবরাশির মতাে কাঁপিতে কাঁপিতে আলােছায়া বুনিতে লাগিল। হরিশ মানুষটা ছিল রসিক, রস দিয়া বর্ণনা করিবার শক্তি তাহার ছিল, আর আমার মন ছিল তৃষার্ত।   আমি হরিশকে বলিলাম, “একবার মামার কাছে কথাটা পাড়িয়া দেখাে।”   হরিশ আসর জমাইতে অদ্বিতীয়। তাই সর্বত্রই তাহার খাতির। মামাও তাহাকে পাইলে ছাড়িতে চান না। কথাটা তাঁর বৈঠকে উঠিল। মেয়ের চেয়ে মেয়ের বাপের খবরটাই তাঁহার কাছে গুরুতর। বাপের অবস্থা তিনি যেমনটি চান তেমনি। এক কালে ইঁহাদের বংশে লক্ষ্মীর মঙ্গলঘট ভরা ছিল। এখন তাহা শূন্য বলিলেই হয়, অথচ তলায় সামান্য কিছু বাকি আছে। দেশে বংশমর্যাদা রাখিয়া চলা সহজ নয় বলিয়া ইনি পশ্চিমে গিয়া বাস করিতেছেন। সেখানে গরিব গৃহস্থের মতােই থাকেন। একটি মেয়ে ছাড়া তাঁর আর নাই। সুতরাং তাহারই পশ্চাতে লক্ষ্মীর ঘটটি একেবারে উপুড় করিয়া দিতে দ্বিধা হইবে না।   এ-সব ভালাে কথা। কিন্তু, মেয়ের বয়স যে পনেরাে, তাই শনিয়া মামার মন ভার হইল। বংশে তাে কোনাে দোষ নাই? না, দোষ নাই-বাপ কোথাও তাঁর মেয়ের যােগ্য বর খুঁজিয়া পান না। একে তাে বরের হাট মহার্ঘ, তাহার পরে ধনুক-ভাঙা পণ, কাজেই বাপ কেবলই সবুর করিতেছেন- কিন্তু মেয়ের বয়স সবুর করিতেছে না।   যাই হােক, হরিশের সরস রসনার গুণ আছে। মামার মন নরম হইল। বিবাহের ভূমিকা-অংশটা নির্বিঘ্নে সমাধা হইয়া গেল। কলিকাতার বাহিরে বাকি যে পৃথিবীটা আছে সমস্তটাকেই মামা আন্ডামান দ্বীপের অন্তর্গত বলিয়া জানেন। জীবনে একবার বিশেষ কাজে তিনি কোন্নগর পর্যন্ত গিয়াছিলেন। মামা যদি মনু হইতেন তবে তিনি হাবড়ার পুল পার হওয়াটাকে তাঁহার সংহিতায় একেবারে নিষেধ করিয়া দিতেন। মনের মধ্যে ইচ্ছা ছিল, নিজের চোখে মেয়ে দেখিয়া আসিব। সাহস করিয়া প্রস্তাব করিতে পারিলাম না।   কন্যাকে আশীর্বাদ করিবার জন্য যাহাকে পাঠানাে হইল সে আমাদের বিনুদাদা, আমার পিস্‌তুতো ভাই। তাহার মত রুচি এবং দক্ষতার 'পরে আমি ষোলো-আনা নির্ভর করিতে পারি। বিনুদা ফিরিয়া আসিয়া বলিলেন, “মন্দ নয় হে! খাঁটি সােনা বটে!   বিনুদাদার ভাষাটা অত্যন্ত আঁট। যেখানে আমরা বলি ‘চমৎকার’ সেখানে তিনি বলেন ‘চলনসই’। অতএব বুঝিলাম, আমার ভাগ্যে প্রজাপতির সঙ্গে পঞ্চশরের কোনাে বিরােধ নাই। \n"
     ]
    }
   ],
   "source": [
    "origin_text = input(\"Enter the Bangla text to summarize: \") "
   ]
  },
  {
   "cell_type": "markdown",
   "metadata": {},
   "source": [
    "# Output Sample:"
   ]
  },
  {
   "cell_type": "code",
   "execution_count": 14,
   "metadata": {},
   "outputs": [
    {
     "name": "stdout",
     "output_type": "stream",
     "text": [
      "The Bangla Summary goes here: \n",
      "আজ আমার বয়স সাতাশ মাত্র।  সামনে যত দূর পর্যন্ত দৃষ্টি চলে ছুটি ধূ ধূ করিতেছে; পরীক্ষা নাই, উমেদারি নাই, চাকরি নাই; নিজের বিষয় দেখিবার চিন্তাও নাই, শিক্ষাও নাই, ইচ্ছাও নাই—থাকিবার মধ্যে ভিতরে আছেন মা এবং বাহিরে আছেন মামা।  ইহাতে তখন বড়ো লজ্জা পাইতাম; কিন্তু বয়স হইয়া এ কথা ভাবিয়াছি, যদি জন্মান্তর থাকে তবে আমার মুখে সরূপ এবং পণ্ডিতমশায়দের মুখে বিদ্রুপ আবার যেন এমনি করিয়াই প্রকাশ পায়।  ইহা সেই ফুলের মতাে যাহার বুকের উপরে ভ্রমর আসিয়া বসিয়াছিল, এবং সেই পদক্ষেপের ইতিহাস তাহার জীবনের মাঝখানে ফলের মতাে গুটি ধরিয়া উঠিয়াছে।  একে তাে বরের হাট মহার্ঘ, তাহার পরে ধনুক-ভাঙা পণ, কাজেই বাপ কেবলই সবুর করিতেছেন- কিন্তু মেয়ের বয়স সবুর করিতেছে না।  যাহাকে শোষণ করা চলিবে অথচ বাড়িতে আসিলে গুড়গুড়ির পরিবর্তে বাঁধা হুঁকায় তামাক দিলে যাহার নালিশ খাটিবে না। \n"
     ]
    }
   ],
   "source": [
    "print(\"The Bangla Summary goes here: \\n\"+BnSummarizer(origin_text)) "
   ]
  },
  {
   "cell_type": "markdown",
   "metadata": {},
   "source": [
    "# Github: \n",
    "https://github.com/tajrian/BanglaTxtSum/blob/master/BnSummarizer.ipynb\n",
    "\n",
    " - Typically it returns summary in 6 sentencs, it can be changed using the `extractSum` method\n",
    " - original text which has less or equal 6 sentences,results in returning the same original text\n",
    "\n",
    "\n",
    "# Submitted by:\n",
    "    Tajrian Binta Jahid \n",
    "    Reg No: 2015331542\n",
    "    Department of Computer Science and Engineering\n",
    "    Sylhet Engineering College\n"
   ]
  }
 ],
 "metadata": {
  "kernelspec": {
   "display_name": "Python 3",
   "language": "python",
   "name": "python3"
  },
  "language_info": {
   "codemirror_mode": {
    "name": "ipython",
    "version": 3
   },
   "file_extension": ".py",
   "mimetype": "text/x-python",
   "name": "python",
   "nbconvert_exporter": "python",
   "pygments_lexer": "ipython3",
   "version": "3.7.3"
  }
 },
 "nbformat": 4,
 "nbformat_minor": 2
}
