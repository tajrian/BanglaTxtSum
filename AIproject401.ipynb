{
 "cells": [
  {
   "cell_type": "code",
   "execution_count": 1,
   "metadata": {},
   "outputs": [
    {
     "name": "stdout",
     "output_type": "stream",
     "text": [
      "Requirement already satisfied: bnltk in c:\\users\\user\\anaconda3\\lib\\site-packages (0.7.6)\n",
      "Requirement already satisfied: requests in c:\\users\\user\\anaconda3\\lib\\site-packages (from bnltk) (2.22.0)\n",
      "Requirement already satisfied: tensorflow in c:\\users\\user\\appdata\\roaming\\python\\python37\\site-packages (from bnltk) (1.14.0)\n",
      "Requirement already satisfied: numpy in c:\\users\\user\\appdata\\roaming\\python\\python37\\site-packages (from bnltk) (1.18.2)\n",
      "Requirement already satisfied: keras in c:\\users\\user\\anaconda3\\lib\\site-packages (from bnltk) (2.3.1)\n",
      "Requirement already satisfied: sklearn in c:\\users\\user\\anaconda3\\lib\\site-packages (from bnltk) (0.0)\n",
      "Requirement already satisfied: certifi>=2017.4.17 in c:\\users\\user\\appdata\\roaming\\python\\python37\\site-packages (from requests->bnltk) (2019.6.16)\n",
      "Requirement already satisfied: chardet<3.1.0,>=3.0.2 in c:\\users\\user\\anaconda3\\lib\\site-packages (from requests->bnltk) (3.0.4)\n",
      "Requirement already satisfied: urllib3!=1.25.0,!=1.25.1,<1.26,>=1.21.1 in c:\\users\\user\\anaconda3\\lib\\site-packages (from requests->bnltk) (1.24.2)\n",
      "Requirement already satisfied: idna<2.9,>=2.5 in c:\\users\\user\\anaconda3\\lib\\site-packages (from requests->bnltk) (2.8)\n",
      "Requirement already satisfied: astor>=0.6.0 in c:\\users\\user\\appdata\\roaming\\python\\python37\\site-packages (from tensorflow->bnltk) (0.8.1)\n",
      "Requirement already satisfied: gast>=0.2.0 in c:\\users\\user\\appdata\\roaming\\python\\python37\\site-packages (from tensorflow->bnltk) (0.3.3)\n",
      "Requirement already satisfied: protobuf>=3.6.1 in c:\\users\\user\\appdata\\roaming\\python\\python37\\site-packages (from tensorflow->bnltk) (3.11.3)\n",
      "Requirement already satisfied: six>=1.10.0 in c:\\users\\user\\appdata\\roaming\\python\\python37\\site-packages (from tensorflow->bnltk) (1.14.0)\n",
      "Requirement already satisfied: keras-preprocessing>=1.0.5 in c:\\users\\user\\appdata\\roaming\\python\\python37\\site-packages (from tensorflow->bnltk) (1.1.0)\n",
      "Requirement already satisfied: grpcio>=1.8.6 in c:\\users\\user\\appdata\\roaming\\python\\python37\\site-packages (from tensorflow->bnltk) (1.28.1)\n",
      "Requirement already satisfied: absl-py>=0.7.0 in c:\\users\\user\\appdata\\roaming\\python\\python37\\site-packages (from tensorflow->bnltk) (0.9.0)\n",
      "Requirement already satisfied: tensorboard<1.15.0,>=1.14.0 in c:\\users\\user\\appdata\\roaming\\python\\python37\\site-packages (from tensorflow->bnltk) (1.14.0)\n",
      "Requirement already satisfied: tensorflow-estimator<1.15.0rc0,>=1.14.0rc0 in c:\\users\\user\\appdata\\roaming\\python\\python37\\site-packages (from tensorflow->bnltk) (1.14.0)\n",
      "Requirement already satisfied: keras-applications>=1.0.6 in c:\\users\\user\\appdata\\roaming\\python\\python37\\site-packages (from tensorflow->bnltk) (1.0.8)\n",
      "Requirement already satisfied: wrapt>=1.11.1 in c:\\users\\user\\appdata\\roaming\\python\\python37\\site-packages (from tensorflow->bnltk) (1.12.1)\n",
      "Requirement already satisfied: termcolor>=1.1.0 in c:\\users\\user\\appdata\\roaming\\python\\python37\\site-packages (from tensorflow->bnltk) (1.1.0)\n",
      "Requirement already satisfied: google-pasta>=0.1.6 in c:\\users\\user\\appdata\\roaming\\python\\python37\\site-packages (from tensorflow->bnltk) (0.2.0)\n",
      "Requirement already satisfied: wheel>=0.26 in c:\\users\\user\\appdata\\roaming\\python\\python37\\site-packages (from tensorflow->bnltk) (0.34.2)\n",
      "Requirement already satisfied: scipy>=0.14 in c:\\users\\user\\anaconda3\\lib\\site-packages (from keras->bnltk) (1.2.1)\n",
      "Requirement already satisfied: pyyaml in c:\\users\\user\\anaconda3\\lib\\site-packages (from keras->bnltk) (5.1.1)\n",
      "Requirement already satisfied: h5py in c:\\users\\user\\appdata\\roaming\\python\\python37\\site-packages (from keras->bnltk) (2.10.0)\n",
      "Requirement already satisfied: scikit-learn in c:\\users\\user\\anaconda3\\lib\\site-packages (from sklearn->bnltk) (0.21.2)\n",
      "Requirement already satisfied: setuptools in c:\\users\\user\\appdata\\roaming\\python\\python37\\site-packages (from protobuf>=3.6.1->tensorflow->bnltk) (46.1.3)\n",
      "Requirement already satisfied: werkzeug>=0.11.15 in c:\\users\\user\\appdata\\roaming\\python\\python37\\site-packages (from tensorboard<1.15.0,>=1.14.0->tensorflow->bnltk) (1.0.1)\n",
      "Requirement already satisfied: markdown>=2.6.8 in c:\\users\\user\\appdata\\roaming\\python\\python37\\site-packages (from tensorboard<1.15.0,>=1.14.0->tensorflow->bnltk) (3.2.1)\n",
      "Requirement already satisfied: joblib>=0.11 in c:\\users\\user\\anaconda3\\lib\\site-packages (from scikit-learn->sklearn->bnltk) (0.13.2)\n",
      "Note: you may need to restart the kernel to use updated packages.\n"
     ]
    }
   ],
   "source": [
    "pip install bnltk"
   ]
  },
  {
   "cell_type": "code",
   "execution_count": 2,
   "metadata": {},
   "outputs": [
    {
     "name": "stdout",
     "output_type": "stream",
     "text": [
      "['আমার', 'সোনার', 'বাংলা']\n"
     ]
    }
   ],
   "source": [
    "from bnltk.tokenize import Tokenizers\n",
    "t = Tokenizers()\n",
    "print(t.bn_word_tokenizer(' আমার সোনার বাংলা । '))"
   ]
  },
  {
   "cell_type": "code",
   "execution_count": 4,
   "metadata": {},
   "outputs": [
    {
     "name": "stdout",
     "output_type": "stream",
     "text": [
      "['আমার সোনার বাংলা ', ' আমি তোমায় ভালবাসি ', '']\n"
     ]
    }
   ],
   "source": [
    "data = \"আমার সোনার বাংলা । আমি তোমায় ভালবাসি ।\"\n",
    "print(data.split(\"।\")) "
   ]
  },
  {
   "cell_type": "code",
   "execution_count": 5,
   "metadata": {},
   "outputs": [
    {
     "name": "stderr",
     "output_type": "stream",
     "text": [
      "[nltk_data] Downloading package punkt to\n",
      "[nltk_data]     C:\\Users\\User\\AppData\\Roaming\\nltk_data...\n",
      "[nltk_data]   Package punkt is already up-to-date!\n"
     ]
    }
   ],
   "source": [
    "import numpy as np\n",
    "import pandas as pd\n",
    "import nltk\n",
    "nltk.download('punkt') # one time execution\n",
    "import re"
   ]
  },
  {
   "cell_type": "markdown",
   "metadata": {},
   "source": [
    "#f =  open(\"articles.txt\",\"r\",encoding=\"utf-8\")\n",
    "#raw =  f.read()\n",
    "#f.close()"
   ]
  },
  {
   "cell_type": "code",
   "execution_count": 17,
   "metadata": {},
   "outputs": [
    {
     "name": "stdout",
     "output_type": "stream",
     "text": [
      "['আমার মাঝে নেই', ' এখন আমি']\n"
     ]
    }
   ],
   "source": [
    "def split_bangla(text):\n",
    "    sentences = []\n",
    "    sentence = \"\"\n",
    "    for letter in text:\n",
    "        if letter=='।':\n",
    "            sentences.append(sentence) \n",
    "            sentence = \"\"\n",
    "        else:\n",
    "            sentence=sentence+letter\n",
    "    return sentences\n",
    "            \n",
    "    \n"
   ]
  },
  {
   "cell_type": "code",
   "execution_count": 20,
   "metadata": {},
   "outputs": [
    {
     "name": "stdout",
     "output_type": "stream",
     "text": [
      "['কোয়ারেন্টিনের কুড়ি নম্বর দিনে দম আটকে আসাটা স্বাভাবিক৷ হয়তো আরো অনেকেরই আসছে', ' এটা শুধু চার দেয়ালের ঘরে থাকার জন্যে না', ' আমাদের ঘরগুলা ঠিক ঘর না, টর্চার সেল', ' দণ্ড ভোগ ছাড়া আমরা পারতপক্ষে এটায় আটকে থাকতে চাই না', ' মহামারীর আগে মহাস্বাভাবিক সময়ে আমি আমার বন্ধুদের ফুটপাথে বসে অপেক্ষা করতে দেখেছি ক্লান্ত চোখে, হয়তো তার রক্তের কলুষিত অংশের যে বয়স্ক অবতার, তার তীব্র অত্যাচারেই সে বের হয়ে এসেছিল সকালে, এখন পেটে ক্ষিদা, চোখে ঘুম, কই যাবে? কোয়ারেন্টিনের কুড়ি দিন সহ জীবনের কুড়ির বেশি বছর কাটিয়ে দিয়েছি আমি এটা ভেবে, কবে ঘর আর ঘরের মানুষ ত্যাগ করবো', ' বাংলার প্রতিটি সন্তান বীর নাকি জানি না, কিন্তু বেশিরভাগ সন্তানই ভোগে স্টকহোম সিন্ড্রমে', ' শুনেছিলাম ছোটকালে পিতামাতা নাকি রক্ষক হয়, রক্ষক যখন ভক্ষক তখন তো আর কিছু করার নাই', ' তো একে একে আমাদের কামড় দিল ডমেস্টিক অভিভাবক, পুলিশ, আমলা, সরকার, এলিয়েন সবাই', ' এখন আমরা রেবিড', ' জলাতঙ্কিত কুকুরেরা মাঝেমধ্যে একা উদাস হয়ে আকাশ দেখে', ' আমিও দেখি', ' কী দেখি সেখানে?ভবিষ্যতের ঘর দেখি? কী আছে সেই ঘরে? সত্য-মূল্যবোধের বিছানার চাদর, সম্মানের শেল্ফ, ভালোবাসার পর্দা? না', ' ঘরটা শূন্য', ' শূন্য ঘর লাগবে আমার, আমিও সুনীলের মত নিখিলেশের কাছে একটা ব্যক্তিগত জিরো আওয়ারের প্রার্থী', ' প্রসবজনিত জটিলতায় গোটা পরিবার নিহত হবে, রিবার্থ এভাবেই হতে হয়, অভিভাবক ছাড়া']\n"
     ]
    }
   ],
   "source": [
    "text = \"কোয়ারেন্টিনের কুড়ি নম্বর দিনে দম আটকে আসাটা স্বাভাবিক৷ হয়তো আরো অনেকেরই আসছে। এটা শুধু চার দেয়ালের ঘরে থাকার জন্যে না। আমাদের ঘরগুলা ঠিক ঘর না, টর্চার সেল। দণ্ড ভোগ ছাড়া আমরা পারতপক্ষে এটায় আটকে থাকতে চাই না। মহামারীর আগে মহাস্বাভাবিক সময়ে আমি আমার বন্ধুদের ফুটপাথে বসে অপেক্ষা করতে দেখেছি ক্লান্ত চোখে, হয়তো তার রক্তের কলুষিত অংশের যে বয়স্ক অবতার, তার তীব্র অত্যাচারেই সে বের হয়ে এসেছিল সকালে, এখন পেটে ক্ষিদা, চোখে ঘুম, কই যাবে? কোয়ারেন্টিনের কুড়ি দিন সহ জীবনের কুড়ির বেশি বছর কাটিয়ে দিয়েছি আমি এটা ভেবে, কবে ঘর আর ঘরের মানুষ ত্যাগ করবো। বাংলার প্রতিটি সন্তান বীর নাকি জানি না, কিন্তু বেশিরভাগ সন্তানই ভোগে স্টকহোম সিন্ড্রমে। শুনেছিলাম ছোটকালে পিতামাতা নাকি রক্ষক হয়, রক্ষক যখন ভক্ষক তখন তো আর কিছু করার নাই। তো একে একে আমাদের কামড় দিল ডমেস্টিক অভিভাবক, পুলিশ, আমলা, সরকার, এলিয়েন সবাই। এখন আমরা রেবিড। জলাতঙ্কিত কুকুরেরা মাঝেমধ্যে একা উদাস হয়ে আকাশ দেখে। আমিও দেখি। কী দেখি সেখানে?ভবিষ্যতের ঘর দেখি? কী আছে সেই ঘরে? সত্য-মূল্যবোধের বিছানার চাদর, সম্মানের শেল্ফ, ভালোবাসার পর্দা? না। ঘরটা শূন্য। শূন্য ঘর লাগবে আমার, আমিও সুনীলের মত নিখিলেশের কাছে একটা ব্যক্তিগত জিরো আওয়ারের প্রার্থী। প্রসবজনিত জটিলতায় গোটা পরিবার নিহত হবে, রিবার্থ এভাবেই হতে হয়, অভিভাবক ছাড়া।\"\n",
    "sentences = split_bangla(text)\n",
    "print(sentences)"
   ]
  },
  {
   "cell_type": "code",
   "execution_count": 32,
   "metadata": {},
   "outputs": [
    {
     "name": "stdout",
     "output_type": "stream",
     "text": [
      "Requirement already up-to-date: gensim in c:\\users\\user\\anaconda3\\lib\\site-packages (3.8.2)\n",
      "Requirement already satisfied, skipping upgrade: scipy>=1.0.0 in c:\\users\\user\\anaconda3\\lib\\site-packages (from gensim) (1.2.1)\n",
      "Requirement already satisfied, skipping upgrade: six>=1.5.0 in c:\\users\\user\\appdata\\roaming\\python\\python37\\site-packages (from gensim) (1.14.0)\n",
      "Requirement already satisfied, skipping upgrade: smart-open>=1.8.1 in c:\\users\\user\\anaconda3\\lib\\site-packages (from gensim) (1.11.1)\n",
      "Requirement already satisfied, skipping upgrade: numpy>=1.11.3 in c:\\users\\user\\appdata\\roaming\\python\\python37\\site-packages (from gensim) (1.18.2)\n",
      "Requirement already satisfied, skipping upgrade: requests in c:\\users\\user\\anaconda3\\lib\\site-packages (from smart-open>=1.8.1->gensim) (2.22.0)\n",
      "Requirement already satisfied, skipping upgrade: boto in c:\\users\\user\\anaconda3\\lib\\site-packages (from smart-open>=1.8.1->gensim) (2.49.0)\n",
      "Requirement already satisfied, skipping upgrade: boto3 in c:\\users\\user\\anaconda3\\lib\\site-packages (from smart-open>=1.8.1->gensim) (1.12.39)\n",
      "Requirement already satisfied, skipping upgrade: certifi>=2017.4.17 in c:\\users\\user\\appdata\\roaming\\python\\python37\\site-packages (from requests->smart-open>=1.8.1->gensim) (2019.6.16)\n",
      "Requirement already satisfied, skipping upgrade: idna<2.9,>=2.5 in c:\\users\\user\\anaconda3\\lib\\site-packages (from requests->smart-open>=1.8.1->gensim) (2.8)\n",
      "Requirement already satisfied, skipping upgrade: urllib3!=1.25.0,!=1.25.1,<1.26,>=1.21.1 in c:\\users\\user\\anaconda3\\lib\\site-packages (from requests->smart-open>=1.8.1->gensim) (1.24.2)\n",
      "Requirement already satisfied, skipping upgrade: chardet<3.1.0,>=3.0.2 in c:\\users\\user\\anaconda3\\lib\\site-packages (from requests->smart-open>=1.8.1->gensim) (3.0.4)\n",
      "Requirement already satisfied, skipping upgrade: s3transfer<0.4.0,>=0.3.0 in c:\\users\\user\\anaconda3\\lib\\site-packages (from boto3->smart-open>=1.8.1->gensim) (0.3.3)\n",
      "Requirement already satisfied, skipping upgrade: jmespath<1.0.0,>=0.7.1 in c:\\users\\user\\anaconda3\\lib\\site-packages (from boto3->smart-open>=1.8.1->gensim) (0.9.5)\n",
      "Requirement already satisfied, skipping upgrade: botocore<1.16.0,>=1.15.39 in c:\\users\\user\\anaconda3\\lib\\site-packages (from boto3->smart-open>=1.8.1->gensim) (1.15.39)\n",
      "Requirement already satisfied, skipping upgrade: docutils<0.16,>=0.10 in c:\\users\\user\\anaconda3\\lib\\site-packages (from botocore<1.16.0,>=1.15.39->boto3->smart-open>=1.8.1->gensim) (0.14)\n",
      "Requirement already satisfied, skipping upgrade: python-dateutil<3.0.0,>=2.1 in c:\\users\\user\\anaconda3\\lib\\site-packages (from botocore<1.16.0,>=1.15.39->boto3->smart-open>=1.8.1->gensim) (2.8.0)\n",
      "Note: you may need to restart the kernel to use updated packages.\n"
     ]
    }
   ],
   "source": [
    " pip install -U gensim"
   ]
  },
  {
   "cell_type": "code",
   "execution_count": 33,
   "metadata": {},
   "outputs": [
    {
     "name": "stderr",
     "output_type": "stream",
     "text": [
      "unable to import 'smart_open.gcs', disabling that module\n"
     ]
    }
   ],
   "source": [
    "from gensim.models import Word2Vec"
   ]
  }
 ],
 "metadata": {
  "kernelspec": {
   "display_name": "Python 3",
   "language": "python",
   "name": "python3"
  },
  "language_info": {
   "codemirror_mode": {
    "name": "ipython",
    "version": 3
   },
   "file_extension": ".py",
   "mimetype": "text/x-python",
   "name": "python",
   "nbconvert_exporter": "python",
   "pygments_lexer": "ipython3",
   "version": "3.7.3"
  }
 },
 "nbformat": 4,
 "nbformat_minor": 2
}
