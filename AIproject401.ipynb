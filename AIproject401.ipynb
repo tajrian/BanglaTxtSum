{
 "cells": [
  {
   "cell_type": "code",
   "execution_count": 1,
   "metadata": {},
   "outputs": [
    {
     "name": "stdout",
     "output_type": "stream",
     "text": [
      "['আমার', 'সোনার', 'বাংলা']\n"
     ]
    }
   ],
   "source": [
    "from bnltk.tokenize import Tokenizers\n",
    "t = Tokenizers()\n",
    "print(t.bn_word_tokenizer(' আমার সোনার বাংলা । '))"
   ]
  },
  {
   "cell_type": "code",
   "execution_count": 2,
   "metadata": {},
   "outputs": [
    {
     "name": "stdout",
     "output_type": "stream",
     "text": [
      "['আমার সোনার বাংলা ', ' আমি তোমায় ভালবাসি ', '']\n"
     ]
    }
   ],
   "source": [
    "data = \"আমার সোনার বাংলা । আমি তোমায় ভালবাসি ।\"\n",
    "print(data.split(\"।\")) "
   ]
  },
  {
   "cell_type": "code",
   "execution_count": 3,
   "metadata": {},
   "outputs": [],
   "source": [
    "import numpy as np\n",
    "import pandas as pd\n",
    "import nltk\n",
    "#nltk.download('punkt') # one time execution\n",
    "import re"
   ]
  },
  {
   "cell_type": "markdown",
   "metadata": {},
   "source": [
    "#f =  open(\"articles.txt\",\"r\",encoding=\"utf-8\")\n",
    "#raw =  f.read()\n",
    "#f.close()"
   ]
  },
  {
   "cell_type": "code",
   "execution_count": 4,
   "metadata": {},
   "outputs": [],
   "source": [
    "def split_bangla(text):\n",
    "    sentences = []\n",
    "    sentence = \"\"\n",
    "    for letter in text:\n",
    "        if letter=='।':\n",
    "            sentences.append(sentence) \n",
    "            sentence = \"\"\n",
    "        else:\n",
    "            sentence=sentence+letter\n",
    "    return sentences\n",
    "            \n",
    "    \n"
   ]
  },
  {
   "cell_type": "code",
   "execution_count": 5,
   "metadata": {},
   "outputs": [
    {
     "name": "stdout",
     "output_type": "stream",
     "text": [
      "[['আমাদের', 'এই', 'টেক্সট', 'ফাইলটা', 'দেখে', 'নিতে', 'পারেন'], ['', 'প্রতিটা', 'লাইনে', 'একটা', 'করে', 'বাংলা', 'বাক্য', 'আছে'], ['', 'বাংলা', 'উইকিপিডিয়া', 'থেকে', 'নেয়া'], ['', 'প্রি-প্রসেসিং', 'করে', 'নিয়েছি', 'আগেই'], ['', 'এখানে', 'সহায়তা', 'দিয়েছেন', 'তারেক', 'আল', 'মুনতাসির']]\n"
     ]
    }
   ],
   "source": [
    "#text = \"কোয়ারেন্টিনের কুড়ি নম্বর দিনে দম আটকে আসাটা স্বাভাবিক৷ হয়তো আরো অনেকেরই আসছে। এটা শুধু চার দেয়ালের ঘরে থাকার জন্যে না। আমাদের ঘরগুলা ঠিক ঘর না, টর্চার সেল। দণ্ড ভোগ ছাড়া আমরা পারতপক্ষে এটায় আটকে থাকতে চাই না। মহামারীর আগে মহাস্বাভাবিক সময়ে আমি আমার বন্ধুদের ফুটপাথে বসে অপেক্ষা করতে দেখেছি ক্লান্ত চোখে, হয়তো তার রক্তের কলুষিত অংশের যে বয়স্ক অবতার, তার তীব্র অত্যাচারেই সে বের হয়ে এসেছিল সকালে, এখন পেটে ক্ষিদা, চোখে ঘুম, কই যাবে? কোয়ারেন্টিনের কুড়ি দিন সহ জীবনের কুড়ির বেশি বছর কাটিয়ে দিয়েছি আমি এটা ভেবে, কবে ঘর আর ঘরের মানুষ ত্যাগ করবো। বাংলার প্রতিটি সন্তান বীর নাকি জানি না, কিন্তু বেশিরভাগ সন্তানই ভোগে স্টকহোম সিন্ড্রমে। শুনেছিলাম ছোটকালে পিতামাতা নাকি রক্ষক হয়, রক্ষক যখন ভক্ষক তখন তো আর কিছু করার নাই। তো একে একে আমাদের কামড় দিল ডমেস্টিক অভিভাবক, পুলিশ, আমলা, সরকার, এলিয়েন সবাই। এখন আমরা রেবিড। জলাতঙ্কিত কুকুরেরা মাঝেমধ্যে একা উদাস হয়ে আকাশ দেখে। আমিও দেখি। কী দেখি সেখানে?ভবিষ্যতের ঘর দেখি? কী আছে সেই ঘরে? সত্য-মূল্যবোধের বিছানার চাদর, সম্মানের শেল্ফ, ভালোবাসার পর্দা? না। ঘরটা শূন্য। শূন্য ঘর লাগবে আমার, আমিও সুনীলের মত নিখিলেশের কাছে একটা ব্যক্তিগত জিরো আওয়ারের প্রার্থী। প্রসবজনিত জটিলতায় গোটা পরিবার নিহত হবে, রিবার্থ এভাবেই হতে হয়, অভিভাবক ছাড়া।\"\n",
    "text = \"আমাদের এই টেক্সট ফাইলটা দেখে নিতে পারেন। প্রতিটা লাইনে একটা করে বাংলা বাক্য আছে। বাংলা উইকিপিডিয়া থেকে নেয়া। প্রি-প্রসেসিং করে নিয়েছি আগেই। এখানে সহায়তা দিয়েছেন তারেক আল মুনতাসির।\"\n",
    "sentences = split_bangla(text)\n",
    "#print(sentences)\n",
    "final_txt =[]\n",
    "for sentence in sentences:\n",
    "    tokenized_sentence = sentence.split(\" \")\n",
    "    #print(tokenized_sentence)\n",
    "    final_txt.append(tokenized_sentence)\n",
    "print(final_txt)"
   ]
  },
  {
   "cell_type": "code",
   "execution_count": 6,
   "metadata": {},
   "outputs": [
    {
     "name": "stdout",
     "output_type": "stream",
     "text": [
      "['আমাদের', 'এই', 'টেক্সট', 'ফাইলটা', 'দেখে', 'নিতে', 'পারেন']\n"
     ]
    }
   ],
   "source": [
    "print(final_txt[0])"
   ]
  },
  {
   "cell_type": "code",
   "execution_count": 7,
   "metadata": {},
   "outputs": [
    {
     "name": "stderr",
     "output_type": "stream",
     "text": [
      "unable to import 'smart_open.gcs', disabling that module\n"
     ]
    },
    {
     "name": "stdout",
     "output_type": "stream",
     "text": [
      "[['আমাদের', 'এই', 'টেক্সট', 'ফাইলটা', 'দেখে', 'নিতে', 'পারেন'], ['', 'প্রতিটা', 'লাইনে', 'একটা', 'করে', 'বাংলা', 'বাক্য', 'আছে'], ['', 'বাংলা', 'উইকিপিডিয়া', 'থেকে', 'নেয়া'], ['', 'প্রি-প্রসেসিং', 'করে', 'নিয়েছি', 'আগেই'], ['', 'এখানে', 'সহায়তা', 'দিয়েছেন', 'তারেক', 'আল', 'মুনতাসির']]\n"
     ]
    }
   ],
   "source": [
    "from gensim.models import Word2Vec\n",
    "print(final_txt)"
   ]
  },
  {
   "cell_type": "code",
   "execution_count": 9,
   "metadata": {},
   "outputs": [],
   "source": [
    "model = Word2Vec(final_txt, size=200, window=5, min_count=1)"
   ]
  },
  {
   "cell_type": "markdown",
   "metadata": {},
   "source": [
    "Default min_count in gensim's Word2Vec is set to 5. If there is no word in your vocab with frequency greater than 4, your vocab will be empty and hence the error."
   ]
  },
  {
   "cell_type": "code",
   "execution_count": 11,
   "metadata": {},
   "outputs": [
    {
     "data": {
      "text/plain": [
       "[('উইকিপিডিয়া', 0.08855685591697693),\n",
       " ('মুনতাসির', 0.07594318687915802),\n",
       " ('সহায়তা', 0.061101824045181274),\n",
       " ('বাক্য', 0.030063480138778687),\n",
       " ('প্রতিটা', 0.02898864448070526)]"
      ]
     },
     "execution_count": 11,
     "metadata": {},
     "output_type": "execute_result"
    }
   ],
   "source": [
    "model.wv.most_similar('বাংলা', topn=5)"
   ]
  }
 ],
 "metadata": {
  "kernelspec": {
   "display_name": "Python 3",
   "language": "python",
   "name": "python3"
  },
  "language_info": {
   "codemirror_mode": {
    "name": "ipython",
    "version": 3
   },
   "file_extension": ".py",
   "mimetype": "text/x-python",
   "name": "python",
   "nbconvert_exporter": "python",
   "pygments_lexer": "ipython3",
   "version": "3.7.3"
  }
 },
 "nbformat": 4,
 "nbformat_minor": 2
}
