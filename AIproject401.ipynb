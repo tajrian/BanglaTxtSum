{
 "cells": [
  {
   "cell_type": "code",
   "execution_count": 1,
   "metadata": {},
   "outputs": [
    {
     "name": "stdout",
     "output_type": "stream",
     "text": [
      "['আমার', 'সোনার', 'বাংলা']\n"
     ]
    }
   ],
   "source": [
    "from bnltk.tokenize import Tokenizers\n",
    "t = Tokenizers()\n",
    "print(t.bn_word_tokenizer(' আমার সোনার বাংলা । '))"
   ]
  },
  {
   "cell_type": "code",
   "execution_count": 2,
   "metadata": {},
   "outputs": [
    {
     "name": "stdout",
     "output_type": "stream",
     "text": [
      "['আমার সোনার বাংলা ', ' আমি তোমায় ভালবাসি ', '']\n"
     ]
    }
   ],
   "source": [
    "data = \"আমার সোনার বাংলা । আমি তোমায় ভালবাসি ।\"\n",
    "print(data.split(\"।\")) "
   ]
  },
  {
   "cell_type": "code",
   "execution_count": 3,
   "metadata": {},
   "outputs": [],
   "source": [
    "import numpy as np\n",
    "import pandas as pd\n",
    "import nltk\n",
    "#nltk.download('punkt') # one time execution\n",
    "import re"
   ]
  },
  {
   "cell_type": "code",
   "execution_count": 10,
   "metadata": {},
   "outputs": [],
   "source": [
    "#f =  open(\"articles.txt\",\"r\",encoding=\"utf-8\")\n",
    "#raw =  f.read()\n",
    "#f.close()"
   ]
  },
  {
   "cell_type": "code",
   "execution_count": 4,
   "metadata": {},
   "outputs": [],
   "source": [
    "def split_bangla(text):\n",
    "    sentences = []\n",
    "    sentence = \"\"\n",
    "    for letter in text:\n",
    "        if letter=='।':\n",
    "            sentences.append(sentence) \n",
    "            sentence = \"\"\n",
    "        else:\n",
    "            sentence=sentence+letter\n",
    "    return sentences\n",
    "            \n",
    "    \n"
   ]
  },
  {
   "cell_type": "code",
   "execution_count": 5,
   "metadata": {},
   "outputs": [
    {
     "name": "stdout",
     "output_type": "stream",
     "text": [
      "[['আমাদের', 'এই', 'টেক্সট', 'ফাইলটা', 'দেখে', 'নিতে', 'পারেন'], ['', 'প্রতিটা', 'লাইনে', 'একটা', 'করে', 'বাংলা', 'বাক্য', 'আছে'], ['', 'বাংলা', 'উইকিপিডিয়া', 'থেকে', 'নেয়া'], ['', 'প্রি-প্রসেসিং', 'করে', 'নিয়েছি', 'আগেই'], ['', 'এখানে', 'সহায়তা', 'দিয়েছেন', 'তারেক', 'আল', 'মুনতাসির']]\n"
     ]
    }
   ],
   "source": [
    "text = \"আমাদের এই টেক্সট ফাইলটা দেখে নিতে পারেন। প্রতিটা লাইনে একটা করে বাংলা বাক্য আছে। বাংলা উইকিপিডিয়া থেকে নেয়া। প্রি-প্রসেসিং করে নিয়েছি আগেই। এখানে সহায়তা দিয়েছেন তারেক আল মুনতাসির।\"\n",
    "sentences = split_bangla(text)\n",
    "#print(sentences)\n",
    "final_txt =[]\n",
    "for sentence in sentences:\n",
    "    tokenized_sentence = sentence.split(\" \")\n",
    "    #print(tokenized_sentence)\n",
    "    final_txt.append(tokenized_sentence)\n",
    "print(final_txt)"
   ]
  },
  {
   "cell_type": "code",
   "execution_count": 6,
   "metadata": {},
   "outputs": [
    {
     "name": "stdout",
     "output_type": "stream",
     "text": [
      "['আমাদের', 'এই', 'টেক্সট', 'ফাইলটা', 'দেখে', 'নিতে', 'পারেন']\n"
     ]
    }
   ],
   "source": [
    "print(final_txt[0])"
   ]
  },
  {
   "cell_type": "code",
   "execution_count": 7,
   "metadata": {},
   "outputs": [
    {
     "name": "stderr",
     "output_type": "stream",
     "text": [
      "unable to import 'smart_open.gcs', disabling that module\n"
     ]
    },
    {
     "name": "stdout",
     "output_type": "stream",
     "text": [
      "[['আমাদের', 'এই', 'টেক্সট', 'ফাইলটা', 'দেখে', 'নিতে', 'পারেন'], ['', 'প্রতিটা', 'লাইনে', 'একটা', 'করে', 'বাংলা', 'বাক্য', 'আছে'], ['', 'বাংলা', 'উইকিপিডিয়া', 'থেকে', 'নেয়া'], ['', 'প্রি-প্রসেসিং', 'করে', 'নিয়েছি', 'আগেই'], ['', 'এখানে', 'সহায়তা', 'দিয়েছেন', 'তারেক', 'আল', 'মুনতাসির']]\n"
     ]
    }
   ],
   "source": [
    "from gensim.models import Word2Vec\n",
    "print(final_txt)"
   ]
  },
  {
   "cell_type": "code",
   "execution_count": 8,
   "metadata": {},
   "outputs": [],
   "source": [
    "model = Word2Vec(final_txt, size=200, window=5, min_count=1)"
   ]
  },
  {
   "cell_type": "markdown",
   "metadata": {},
   "source": [
    "Default min_count in gensim's Word2Vec is set to 5. If there is no word in your vocab with frequency greater than 4, your vocab will be empty and hence the error."
   ]
  },
  {
   "cell_type": "code",
   "execution_count": 9,
   "metadata": {},
   "outputs": [
    {
     "data": {
      "text/plain": [
       "[('আছে', 0.1498166024684906),\n",
       " ('একটা', 0.10810127854347229),\n",
       " ('প্রতিটা', 0.08369426429271698),\n",
       " ('সহায়তা', 0.07094619423151016),\n",
       " ('করে', 0.0547771118581295)]"
      ]
     },
     "execution_count": 9,
     "metadata": {},
     "output_type": "execute_result"
    }
   ],
   "source": [
    "model.wv.most_similar('বাংলা', topn=5)"
   ]
  }
 ],
 "metadata": {
  "kernelspec": {
   "display_name": "Python 3",
   "language": "python",
   "name": "python3"
  },
  "language_info": {
   "codemirror_mode": {
    "name": "ipython",
    "version": 3
   },
   "file_extension": ".py",
   "mimetype": "text/x-python",
   "name": "python",
   "nbconvert_exporter": "python",
   "pygments_lexer": "ipython3",
   "version": "3.7.3"
  }
 },
 "nbformat": 4,
 "nbformat_minor": 2
}
